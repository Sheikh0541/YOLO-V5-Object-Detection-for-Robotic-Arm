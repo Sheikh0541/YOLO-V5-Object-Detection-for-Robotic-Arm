{
 "cells": [
  {
   "attachments": {},
   "cell_type": "markdown",
   "metadata": {},
   "source": [
    "#### Initializing Libraries"
   ]
  },
  {
   "cell_type": "code",
   "execution_count": 1,
   "metadata": {},
   "outputs": [],
   "source": [
    "import torch\n",
    "import numpy as np\n",
    "import cv2 as cv \n",
    "from time import time, sleep"
   ]
  },
  {
   "attachments": {},
   "cell_type": "markdown",
   "metadata": {},
   "source": [
    "#### Model download"
   ]
  },
  {
   "cell_type": "code",
   "execution_count": 2,
   "metadata": {},
   "outputs": [
    {
     "name": "stderr",
     "output_type": "stream",
     "text": [
      "Downloading: \"https://github.com/ultralytics/yolov5/zipball/master\" to C:\\Users\\abc/.cache\\torch\\hub\\master.zip\n",
      "YOLOv5  2023-2-26 Python-3.10.0 torch-1.13.1+cpu CPU\n",
      "\n",
      "Fusing layers... \n",
      "Model summary: 157 layers, 7018216 parameters, 0 gradients, 15.8 GFLOPs\n",
      "Adding AutoShape... \n"
     ]
    }
   ],
   "source": [
    "best_model_path = 'G:\\level 3 term 2\\LAB EEE 318\\Project\\Script\\one_best_640_93_5_2_yoloV5s.pt'\n",
    "model = torch.hub.load('ultralytics/yolov5', 'custom', path=best_model_path, force_reload=True)"
   ]
  },
  {
   "attachments": {},
   "cell_type": "markdown",
   "metadata": {},
   "source": [
    "Class Names, Device, Capture index"
   ]
  },
  {
   "cell_type": "code",
   "execution_count": 3,
   "metadata": {},
   "outputs": [
    {
     "name": "stdout",
     "output_type": "stream",
     "text": [
      "{0: 'metal', 1: 'paper', 2: 'plastic'}\n",
      "Using Device:  cpu\n"
     ]
    }
   ],
   "source": [
    "classes = model.names  #dictionary \n",
    "print(classes)\n",
    "device = 'cuda' if torch.cuda.is_available() else 'cpu'  #string\n",
    "print(\"Using Device: \", device) \n",
    "capture_index = 1"
   ]
  },
  {
   "attachments": {},
   "cell_type": "markdown",
   "metadata": {},
   "source": [
    "Function Definition"
   ]
  },
  {
   "cell_type": "code",
   "execution_count": 4,
   "metadata": {},
   "outputs": [],
   "source": [
    "# funtion for finding labels and cord. basically labels are needed. \n",
    "def score_frame(frame):\n",
    "     model.to(device)\n",
    "     frame = [frame]  # making it a list \n",
    "     results = model(frame)\n",
    "     labels, cord = results.xyxyn[0][:, -1], results.xyxyn[0][:, :-1]\n",
    "     return labels, cord"
   ]
  },
  {
   "cell_type": "code",
   "execution_count": 5,
   "metadata": {},
   "outputs": [],
   "source": [
    "# Fucntion for ectracting the class label \n",
    "def class_to_label(x):\n",
    "    return classes[int(x)]"
   ]
  },
  {
   "cell_type": "code",
   "execution_count": 6,
   "metadata": {},
   "outputs": [],
   "source": [
    "# Function for finding label and plotting\n",
    "def plot_boxes(results, frame):\n",
    "        labels, cord = results\n",
    "        n = len(labels)\n",
    "        exact_label = \"\" \n",
    "        x_shape, y_shape = frame.shape[1], frame.shape[0]\n",
    "        for i in range(n):\n",
    "            row = cord[i]\n",
    "            if row[4] >= 0.3:\n",
    "                x1, y1, x2, y2 = int(row[0]*x_shape), int(row[1]*y_shape), int(row[2]*x_shape), int(row[3]*y_shape)\n",
    "                bgr = (0, 255, 0)\n",
    "                cv.rectangle(frame, (x1, y1), (x2, y2), bgr, 2)\n",
    "                cv.putText(frame, class_to_label(labels[i]), (x1, y1), cv.FONT_HERSHEY_SIMPLEX, 0.9, bgr, 2)\n",
    "                exact_label = class_to_label(labels[i]) \n",
    "        return frame, exact_label "
   ]
  },
  {
   "attachments": {},
   "cell_type": "markdown",
   "metadata": {},
   "source": [
    "### Camera opening Function Definition"
   ]
  },
  {
   "cell_type": "code",
   "execution_count": 7,
   "metadata": {},
   "outputs": [],
   "source": [
    "def capture_trash_type():\n",
    "    cap = cv.VideoCapture(0)  \n",
    "    # assert cap.isOpened() \n",
    "\n",
    "    trash = []\n",
    "    while True:\n",
    "            sleep(0.5) # 0.5 sec\n",
    "            ret, frame = cap.read()\n",
    "            # assert ret\n",
    "                \n",
    "            frame = cv.resize(frame, (640,640))\n",
    "                \n",
    "            start_time = time()\n",
    "            results = score_frame(frame)\n",
    "            frame, exact_label = plot_boxes(results, frame) \n",
    "            print(exact_label)\n",
    "                \n",
    "            end_time = time()\n",
    "            fps = 1/np.round(end_time - start_time, 2)\n",
    "            #print(f\"Frames Per Second : {fps}\")\n",
    "                \n",
    "            cv.putText(np.array(frame), f'FPS: {int(fps)}', (20,70), cv.FONT_HERSHEY_SIMPLEX, 1.5, (0,255,0), 2)\n",
    "                \n",
    "            cv.imshow('YOLOv5 Detection', frame)\n",
    "            \n",
    "            if exact_label: \n",
    "                trash.append(exact_label) \n",
    "                if len(list(set(trash))) > 1:\n",
    "                    trash = []\n",
    "                elif cv.waitKey(2) and len(trash) == 2 and len(list(set(trash))) == 1:\n",
    "                    print('ok')\n",
    "                    print(trash[0])\n",
    "                    break  \n",
    "            # if cv.waitKey(5) & 0xFF == ord('q'):\n",
    "            #     cv.destroyAllWindows()\n",
    "            #     break\n",
    "    cv.destroyAllWindows()       \n",
    "    # cap.release() \n",
    "    return trash[-1] "
   ]
  },
  {
   "cell_type": "code",
   "execution_count": null,
   "metadata": {},
   "outputs": [],
   "source": [
    "label = capture_trash_type()"
   ]
  },
  {
   "attachments": {},
   "cell_type": "markdown",
   "metadata": {},
   "source": [
    "### Arduino handling"
   ]
  },
  {
   "cell_type": "code",
   "execution_count": 19,
   "metadata": {},
   "outputs": [
    {
     "name": "stdout",
     "output_type": "stream",
     "text": [
      "COM5 - USB-SERIAL CH340 (COM5)\n"
     ]
    }
   ],
   "source": [
    "import serial.tools.list_ports\n",
    "\n",
    "ports = serial.tools.list_ports.comports()\n",
    "serialInst = serial.Serial()\n",
    "portsList = []\n",
    "\n",
    "for onePort in ports:\n",
    "    portsList.append(str(onePort))\n",
    "    print(str(onePort))\n",
    "\n",
    "portVar = \"COM5\"\n",
    "serialInst.baudrate = 9600\n",
    "serialInst.port = portVar\n",
    "serialInst.open() "
   ]
  },
  {
   "cell_type": "code",
   "execution_count": 24,
   "metadata": {},
   "outputs": [
    {
     "name": "stdout",
     "output_type": "stream",
     "text": [
      "paper\n",
      "paper\n",
      "ok\n",
      "paper\n"
     ]
    },
    {
     "data": {
      "text/plain": [
       "5"
      ]
     },
     "execution_count": 24,
     "metadata": {},
     "output_type": "execute_result"
    }
   ],
   "source": [
    "command = capture_trash_type()\n",
    "serialInst.write(command.encode('utf-8'))"
   ]
  }
 ],
 "metadata": {
  "kernelspec": {
   "display_name": "Python 3",
   "language": "python",
   "name": "python3"
  },
  "language_info": {
   "codemirror_mode": {
    "name": "ipython",
    "version": 3
   },
   "file_extension": ".py",
   "mimetype": "text/x-python",
   "name": "python",
   "nbconvert_exporter": "python",
   "pygments_lexer": "ipython3",
   "version": "3.10.0"
  },
  "orig_nbformat": 4,
  "vscode": {
   "interpreter": {
    "hash": "ea3bc4447bd6cba55cdf9eaaee12c649a8a0a3c578f041a6381858bf23126293"
   }
  }
 },
 "nbformat": 4,
 "nbformat_minor": 2
}
